{
 "cells": [
  {
   "cell_type": "markdown",
   "id": "14607784-31a9-4a8d-8e3c-24c2e571605b",
   "metadata": {},
   "source": [
    "Classify grayscale images of handwritten \n",
    "digit\r\n",
    "(8\n",
    "×\r\n",
    "28 pix ls)\r\n",
    "into  he r\r\n",
    "10\r\n",
    "cat gories\r\n",
    "(0 through\r\n",
    "9)"
   ]
  },
  {
   "cell_type": "code",
   "execution_count": 10,
   "id": "8805a79f-b6e5-4500-8a8d-f45df892dc85",
   "metadata": {},
   "outputs": [],
   "source": [
    "from keras.datasets import mnist\n",
    "(train_images, train_labels), (test_images, test_labels) = mnist.load_data()"
   ]
  },
  {
   "cell_type": "code",
   "execution_count": 11,
   "id": "d98e2bdd-b894-41d6-b789-16a578796947",
   "metadata": {},
   "outputs": [],
   "source": [
    "# !pip install keras"
   ]
  },
  {
   "cell_type": "code",
   "execution_count": 12,
   "id": "3e9f55ff-0410-4c5e-8f31-b2a22b660d18",
   "metadata": {},
   "outputs": [],
   "source": [
    "# !pip install tensorflow"
   ]
  },
  {
   "cell_type": "code",
   "execution_count": 13,
   "id": "9ab917a4-87c6-4fef-9d67-62d6171cdf73",
   "metadata": {},
   "outputs": [
    {
     "name": "stdout",
     "output_type": "stream",
     "text": [
      "Shape of train images:  (60000, 28, 28)\n",
      "Length of train images:  60000\n",
      "Shape of train labels (60000,)\n",
      "Length of train labels:  60000\n",
      "Shape of test images (10000, 28, 28)\n",
      "Length of test image:  10000\n",
      "Shape of test Labels (10000,)\n",
      "Length of test Label:  10000\n"
     ]
    }
   ],
   "source": [
    "print(\"Shape of train images: \",train_images.shape)\n",
    "print(\"Length of train images: \",len(train_images))\n",
    "print(\"Shape of train labels\",train_labels.shape)\n",
    "print(\"Length of train labels: \",len(train_labels))\n",
    "print(\"Shape of test images\",test_images.shape)\n",
    "print(\"Length of test image: \",len(test_images))\n",
    "print(\"Shape of test Labels\",test_labels.shape)\n",
    "print(\"Length of test Label: \",len(test_labels))"
   ]
  },
  {
   "cell_type": "code",
   "execution_count": 14,
   "id": "d2e53ec1-3e5d-4e1d-a129-b5cecb5d2575",
   "metadata": {},
   "outputs": [],
   "source": [
    "from keras import models\n",
    "from keras import layers\n",
    "network = models.Sequential()\n",
    "network.add(layers.Dense(512, activation='relu', input_shape=(28 * 28,)))\n",
    "network.add(layers.Dense(10, activation='softmax'))"
   ]
  },
  {
   "cell_type": "raw",
   "id": "59e7e6b8-c6ba-4b7f-bfd5-9eb3d0a20bc7",
   "metadata": {},
   "source": [
    "Here, our network consists of a sequence of two\n",
    "Dense layers, which are densely\n",
    "connected (also called fully connected) neural layers. The second (and last) layer is a\n",
    "10-way softmax layer, which means it will return an array of 10 probability scores (sum-\n",
    "ming to 1). Each score will be the probability that the current digit image belongs to\n",
    "one of our 10 digit classes"
   ]
  },
  {
   "cell_type": "code",
   "execution_count": 15,
   "id": "171541ed-1949-42ea-92c8-87a103f7c285",
   "metadata": {},
   "outputs": [],
   "source": [
    "network.compile(optimizer='rmsprop', loss='categorical_crossentropy',\n",
    "                metrics=['accuracy'])"
   ]
  },
  {
   "cell_type": "raw",
   "id": "679bdea3-277e-4bd2-ae22-0cbfc8249645",
   "metadata": {},
   "source": [
    "1. A loss function—How the network will be able to measure its performance on\n",
    "    the training data, and thus how it will be able to steer itself in the right direction.\n",
    "2. An optimizer—The mechanism through which the network will update itself\n",
    "    based on the data it sees and its loss function.\n",
    "3. Metrics to monitor during training and testing—Here, we’ll only care about accu-\n",
    "    racy (the fraction of the images that were correctly classified)"
   ]
  },
  {
   "cell_type": "code",
   "execution_count": 16,
   "id": "63334a94-1c5d-4caf-9c22-944d31ad3f68",
   "metadata": {},
   "outputs": [],
   "source": [
    "train_images = train_images.reshape((60000, 28 * 28))\n",
    "train_images = train_images.astype('float32') / 255\n",
    "test_images = test_images.reshape((10000, 28 * 28))\n",
    "test_images = test_images.astype('float32') / 255"
   ]
  },
  {
   "cell_type": "code",
   "execution_count": 17,
   "id": "83c47c79-ad0b-4acd-9c7a-75ee2fd6c34b",
   "metadata": {},
   "outputs": [],
   "source": [
    "from keras.utils import to_categorical\n",
    "train_labels = to_categorical(train_labels)\n",
    "test_labels = to_categorical(test_labels)"
   ]
  },
  {
   "cell_type": "code",
   "execution_count": 18,
   "id": "7550bad4-3199-4dab-8689-193992771a0d",
   "metadata": {},
   "outputs": [
    {
     "name": "stdout",
     "output_type": "stream",
     "text": [
      "Epoch 1/5\n",
      "469/469 [==============================] - 6s 11ms/step - loss: 0.2661 - accuracy: 0.9226\n",
      "Epoch 2/5\n",
      "469/469 [==============================] - 5s 12ms/step - loss: 0.1074 - accuracy: 0.9689\n",
      "Epoch 3/5\n",
      "469/469 [==============================] - 7s 15ms/step - loss: 0.0700 - accuracy: 0.9791\n",
      "Epoch 4/5\n",
      "469/469 [==============================] - 6s 13ms/step - loss: 0.0508 - accuracy: 0.9841\n",
      "Epoch 5/5\n",
      "469/469 [==============================] - 6s 12ms/step - loss: 0.0374 - accuracy: 0.9885\n"
     ]
    },
    {
     "data": {
      "text/plain": [
       "<keras.src.callbacks.History at 0x2cd57a8e650>"
      ]
     },
     "execution_count": 18,
     "metadata": {},
     "output_type": "execute_result"
    }
   ],
   "source": [
    "network.fit(train_images, train_labels, epochs=5, batch_size=128)\n"
   ]
  },
  {
   "cell_type": "code",
   "execution_count": 19,
   "id": "8e95f02a-accb-4fc9-8a22-900770684a97",
   "metadata": {},
   "outputs": [
    {
     "name": "stdout",
     "output_type": "stream",
     "text": [
      "313/313 [==============================] - 1s 3ms/step - loss: 0.0732 - accuracy: 0.9777\n"
     ]
    }
   ],
   "source": [
    "test_loss, test_acc = network.evaluate(test_images, test_labels)\n"
   ]
  },
  {
   "cell_type": "code",
   "execution_count": 20,
   "id": "4dffe0b9-d516-4404-a230-7cd967589232",
   "metadata": {},
   "outputs": [
    {
     "name": "stdout",
     "output_type": "stream",
     "text": [
      "test_acc: 0.9776999950408936\n"
     ]
    }
   ],
   "source": [
    "print('test_acc:', test_acc)\n"
   ]
  },
  {
   "cell_type": "raw",
   "id": "c6d1ea76-e567-4d12-acd9-098c7d88862c",
   "metadata": {},
   "source": [
    "The test-set accuracy turns out to be 97.8%—that’s quite a bit lower than the training\n",
    "set accuracy. This gap between training accuracy and test accuracy is an example of\n",
    "overfitting:"
   ]
  },
  {
   "cell_type": "code",
   "execution_count": null,
   "id": "1a1e0518-17d4-44e3-9e51-97c95fd90c15",
   "metadata": {},
   "outputs": [],
   "source": []
  },
  {
   "cell_type": "code",
   "execution_count": null,
   "id": "f54f1a64-6137-4cb4-9a4e-f6b57f3fac80",
   "metadata": {},
   "outputs": [],
   "source": []
  },
  {
   "cell_type": "code",
   "execution_count": null,
   "id": "4f22ee58-8de1-4113-8cb6-6a05511a4bf9",
   "metadata": {},
   "outputs": [],
   "source": []
  }
 ],
 "metadata": {
  "kernelspec": {
   "display_name": "Python 3 (ipykernel)",
   "language": "python",
   "name": "python3"
  },
  "language_info": {
   "codemirror_mode": {
    "name": "ipython",
    "version": 3
   },
   "file_extension": ".py",
   "mimetype": "text/x-python",
   "name": "python",
   "nbconvert_exporter": "python",
   "pygments_lexer": "ipython3",
   "version": "3.11.4"
  }
 },
 "nbformat": 4,
 "nbformat_minor": 5
}
