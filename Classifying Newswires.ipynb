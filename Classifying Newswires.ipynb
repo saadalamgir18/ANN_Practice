{
 "cells": [
  {
   "cell_type": "code",
   "execution_count": 1,
   "id": "d9ffa7f5-1cf5-455f-8a2c-eefd1e03a0e6",
   "metadata": {},
   "outputs": [
    {
     "name": "stdout",
     "output_type": "stream",
     "text": [
      "Downloading data from https://storage.googleapis.com/tensorflow/tf-keras-datasets/reuters.npz\n",
      "2110848/2110848 [==============================] - 0s 0us/step\n"
     ]
    }
   ],
   "source": [
    "from keras.datasets import reuters\n",
    "(train_data, train_labels), (test_data, test_labels) = reuters.load_data(num_words=10000)"
   ]
  },
  {
   "cell_type": "code",
   "execution_count": 2,
   "id": "a4bd7a23-bca3-42a0-a37e-b813602d48c2",
   "metadata": {},
   "outputs": [
    {
     "name": "stdout",
     "output_type": "stream",
     "text": [
      "training Data Length:  8982\n",
      "test Data Length:  2246\n"
     ]
    }
   ],
   "source": [
    "print(\"training Data Length: \",len(train_data))\n",
    "print(\"test Data Length: \",len(test_data))"
   ]
  },
  {
   "cell_type": "code",
   "execution_count": 3,
   "id": "873356c4-7984-4147-acf5-cb9aec758e6c",
   "metadata": {},
   "outputs": [
    {
     "data": {
      "text/plain": [
       "[1,\n",
       " 245,\n",
       " 273,\n",
       " 207,\n",
       " 156,\n",
       " 53,\n",
       " 74,\n",
       " 160,\n",
       " 26,\n",
       " 14,\n",
       " 46,\n",
       " 296,\n",
       " 26,\n",
       " 39,\n",
       " 74,\n",
       " 2979,\n",
       " 3554,\n",
       " 14,\n",
       " 46,\n",
       " 4689,\n",
       " 4329,\n",
       " 86,\n",
       " 61,\n",
       " 3499,\n",
       " 4795,\n",
       " 14,\n",
       " 61,\n",
       " 451,\n",
       " 4329,\n",
       " 17,\n",
       " 12]"
      ]
     },
     "execution_count": 3,
     "metadata": {},
     "output_type": "execute_result"
    }
   ],
   "source": [
    "train_data[10]"
   ]
  },
  {
   "cell_type": "code",
   "execution_count": 4,
   "id": "0096c9c8-5a0b-4871-841e-0e34a84811bf",
   "metadata": {},
   "outputs": [
    {
     "data": {
      "text/plain": [
       "3"
      ]
     },
     "execution_count": 4,
     "metadata": {},
     "output_type": "execute_result"
    }
   ],
   "source": [
    "train_labels[10]"
   ]
  },
  {
   "cell_type": "code",
   "execution_count": 5,
   "id": "41e9238d-18ba-420b-bcae-1cd125022c80",
   "metadata": {},
   "outputs": [],
   "source": [
    "import numpy as np\n",
    "def vectorize_sequences(sequences, dimension=10000):\n",
    "    results = np.zeros((len(sequences), dimension))\n",
    "    for i, sequence in enumerate(sequences):\n",
    "        results[i, sequence] = 1.\n",
    "    return results\n",
    "x_train = vectorize_sequences(train_data)\n",
    "x_test = vectorize_sequences(test_data)"
   ]
  },
  {
   "cell_type": "code",
   "execution_count": 7,
   "id": "d7c1aa06-3e1f-41d8-9abf-c66b118bd4d5",
   "metadata": {},
   "outputs": [],
   "source": [
    "def to_one_hot(labels, dimension=46):\n",
    "    results = np.zeros((len(labels), dimension))\n",
    "    for i, label in enumerate(labels):\n",
    "        results[i, label] = 1.\n",
    "    return results\n",
    "one_hot_train_labels = to_one_hot(train_labels)\n",
    "one_hot_test_labels = to_one_hot(test_labels)"
   ]
  },
  {
   "cell_type": "code",
   "execution_count": 8,
   "id": "80b45543-4754-4a88-ae3c-1a3214e9a4df",
   "metadata": {},
   "outputs": [],
   "source": [
    "from keras import models\n",
    "from keras import layers\n",
    "model = models.Sequential()\n",
    "model.add(layers.Dense(64, activation='relu', input_shape=(10000,)))\n",
    "model.add(layers.Dense(64, activation='relu'))\n",
    "model.add(layers.Dense(46, activation='softmax'))"
   ]
  },
  {
   "cell_type": "code",
   "execution_count": 9,
   "id": "67df881b-3f32-4a02-9aff-abbba6d0b0d7",
   "metadata": {},
   "outputs": [],
   "source": [
    "model.compile(optimizer='rmsprop',\n",
    "loss='categorical_crossentropy',\n",
    "metrics=['accuracy'])"
   ]
  },
  {
   "cell_type": "code",
   "execution_count": 10,
   "id": "ad265ae3-151c-412f-9e92-b6a61872afda",
   "metadata": {},
   "outputs": [],
   "source": [
    "x_val = x_train[:1000]\n",
    "partial_x_train = x_train[1000:]\n",
    "y_val = one_hot_train_labels[:1000]\n",
    "partial_y_train = one_hot_train_labels[1000:]"
   ]
  },
  {
   "cell_type": "code",
   "execution_count": 11,
   "id": "ccd52c18-b514-4910-85b4-146abc5398a5",
   "metadata": {},
   "outputs": [
    {
     "name": "stdout",
     "output_type": "stream",
     "text": [
      "Epoch 1/20\n",
      "16/16 [==============================] - 2s 77ms/step - loss: 2.8953 - accuracy: 0.4778 - val_loss: 1.9117 - val_accuracy: 0.6200\n",
      "Epoch 2/20\n",
      "16/16 [==============================] - 1s 52ms/step - loss: 1.5662 - accuracy: 0.6845 - val_loss: 1.3829 - val_accuracy: 0.7030\n",
      "Epoch 3/20\n",
      "16/16 [==============================] - 1s 50ms/step - loss: 1.1782 - accuracy: 0.7454 - val_loss: 1.2039 - val_accuracy: 0.7370\n",
      "Epoch 4/20\n",
      "16/16 [==============================] - 1s 49ms/step - loss: 0.9711 - accuracy: 0.7853 - val_loss: 1.1022 - val_accuracy: 0.7550\n",
      "Epoch 5/20\n",
      "16/16 [==============================] - 1s 48ms/step - loss: 0.8092 - accuracy: 0.8211 - val_loss: 1.0354 - val_accuracy: 0.7740\n",
      "Epoch 6/20\n",
      "16/16 [==============================] - 1s 52ms/step - loss: 0.6819 - accuracy: 0.8522 - val_loss: 0.9820 - val_accuracy: 0.7910\n",
      "Epoch 7/20\n",
      "16/16 [==============================] - 1s 48ms/step - loss: 0.5682 - accuracy: 0.8779 - val_loss: 0.9687 - val_accuracy: 0.7880\n",
      "Epoch 8/20\n",
      "16/16 [==============================] - 1s 51ms/step - loss: 0.4821 - accuracy: 0.8993 - val_loss: 0.9022 - val_accuracy: 0.7990\n",
      "Epoch 9/20\n",
      "16/16 [==============================] - 1s 48ms/step - loss: 0.4074 - accuracy: 0.9143 - val_loss: 0.9145 - val_accuracy: 0.8070\n",
      "Epoch 10/20\n",
      "16/16 [==============================] - 1s 47ms/step - loss: 0.3515 - accuracy: 0.9260 - val_loss: 0.8692 - val_accuracy: 0.8140\n",
      "Epoch 11/20\n",
      "16/16 [==============================] - 2s 98ms/step - loss: 0.3037 - accuracy: 0.9322 - val_loss: 0.8736 - val_accuracy: 0.8180\n",
      "Epoch 12/20\n",
      "16/16 [==============================] - 1s 60ms/step - loss: 0.2627 - accuracy: 0.9385 - val_loss: 0.9057 - val_accuracy: 0.8090\n",
      "Epoch 13/20\n",
      "16/16 [==============================] - 1s 57ms/step - loss: 0.2345 - accuracy: 0.9449 - val_loss: 0.9084 - val_accuracy: 0.8080\n",
      "Epoch 14/20\n",
      "16/16 [==============================] - 1s 60ms/step - loss: 0.2094 - accuracy: 0.9495 - val_loss: 0.9008 - val_accuracy: 0.8170\n",
      "Epoch 15/20\n",
      "16/16 [==============================] - 1s 55ms/step - loss: 0.1894 - accuracy: 0.9525 - val_loss: 0.9053 - val_accuracy: 0.8190\n",
      "Epoch 16/20\n",
      "16/16 [==============================] - 1s 57ms/step - loss: 0.1746 - accuracy: 0.9521 - val_loss: 0.9208 - val_accuracy: 0.8140\n",
      "Epoch 17/20\n",
      "16/16 [==============================] - 1s 55ms/step - loss: 0.1625 - accuracy: 0.9549 - val_loss: 0.9804 - val_accuracy: 0.7920\n",
      "Epoch 18/20\n",
      "16/16 [==============================] - 1s 54ms/step - loss: 0.1506 - accuracy: 0.9554 - val_loss: 0.9454 - val_accuracy: 0.8100\n",
      "Epoch 19/20\n",
      "16/16 [==============================] - 1s 67ms/step - loss: 0.1459 - accuracy: 0.9572 - val_loss: 0.9566 - val_accuracy: 0.8070\n",
      "Epoch 20/20\n",
      "16/16 [==============================] - 1s 48ms/step - loss: 0.1367 - accuracy: 0.9548 - val_loss: 0.9500 - val_accuracy: 0.8100\n"
     ]
    }
   ],
   "source": [
    "history = model.fit(partial_x_train,\n",
    "partial_y_train,\n",
    "epochs=20,\n",
    "batch_size=512,\n",
    "validation_data=(x_val, y_val))"
   ]
  },
  {
   "cell_type": "code",
   "execution_count": 12,
   "id": "e3ce5ac1-5339-41cf-953c-483bac5abad8",
   "metadata": {},
   "outputs": [
    {
     "data": {
      "image/png": "[encoded data removed]",
      "text/plain": [
       "<Figure size 640x480 with 1 Axes>"
      ]
     },
     "metadata": {},
     "output_type": "display_data"
    }
   ],
   "source": [
    "import matplotlib.pyplot as plt\n",
    "loss = history.history['loss']\n",
    "val_loss = history.history['val_loss']\n",
    "epochs = range(1, len(loss) + 1)\n",
    "plt.plot(epochs, loss, 'bo', label='Training loss')\n",
    "plt.plot(epochs, val_loss, 'b', label='Validation loss')\n",
    "plt.title('Training and validation loss')\n",
    "plt.xlabel('Epochs')\n",
    "plt.ylabel('Loss')\n",
    "plt.legend()\n",
    "plt.show()"
   ]
  },
  {
   "cell_type": "code",
   "execution_count": 14,
   "id": "a202b7e8-81f1-4fe2-b245-f240589772f2",
   "metadata": {},
   "outputs": [
    {
     "data": {
      "image/png": "[encoded data removed]",
      "text/plain": [
       "<Figure size 640x480 with 1 Axes>"
      ]
     },
     "metadata": {},
     "output_type": "display_data"
    }
   ],
   "source": [
    "plt.clf()\n",
    "acc = history.history['accuracy']\n",
    "val_acc = history.history['val_accuracy']\n",
    "plt.plot(epochs, acc, 'bo', label='Training acc')\n",
    "plt.plot(epochs, val_acc, 'b', label='Validation acc')\n",
    "plt.title('Training and validation accuracy')\n",
    "plt.xlabel('Epochs')\n",
    "plt.ylabel('Loss')\n",
    "plt.legend()\n",
    "plt.show()"
   ]
  },
  {
   "cell_type": "code",
   "execution_count": 15,
   "id": "844dcd5a-307b-4c79-95b1-b5721e267d14",
   "metadata": {},
   "outputs": [
    {
     "name": "stdout",
     "output_type": "stream",
     "text": [
      "Epoch 1/9\n",
      "16/16 [==============================] - 2s 64ms/step - loss: 2.8341 - accuracy: 0.4867 - val_loss: 1.9097 - val_accuracy: 0.6200\n",
      "Epoch 2/9\n",
      "16/16 [==============================] - 1s 42ms/step - loss: 1.5749 - accuracy: 0.6779 - val_loss: 1.3870 - val_accuracy: 0.7020\n",
      "Epoch 3/9\n",
      "16/16 [==============================] - 1s 49ms/step - loss: 1.1870 - accuracy: 0.7451 - val_loss: 1.1963 - val_accuracy: 0.7350\n",
      "Epoch 4/9\n",
      "16/16 [==============================] - 1s 46ms/step - loss: 0.9727 - accuracy: 0.7950 - val_loss: 1.0908 - val_accuracy: 0.7850\n",
      "Epoch 5/9\n",
      "16/16 [==============================] - 1s 48ms/step - loss: 0.8085 - accuracy: 0.8267 - val_loss: 1.0217 - val_accuracy: 0.7840\n",
      "Epoch 6/9\n",
      "16/16 [==============================] - 1s 45ms/step - loss: 0.6781 - accuracy: 0.8553 - val_loss: 0.9757 - val_accuracy: 0.8020\n",
      "Epoch 7/9\n",
      "16/16 [==============================] - 1s 52ms/step - loss: 0.5636 - accuracy: 0.8819 - val_loss: 0.9609 - val_accuracy: 0.7920\n",
      "Epoch 8/9\n",
      "16/16 [==============================] - 1s 49ms/step - loss: 0.4773 - accuracy: 0.8984 - val_loss: 0.8856 - val_accuracy: 0.8130\n",
      "Epoch 9/9\n",
      "16/16 [==============================] - 1s 44ms/step - loss: 0.4011 - accuracy: 0.9124 - val_loss: 0.8705 - val_accuracy: 0.8220\n",
      "71/71 [==============================] - 0s 4ms/step - loss: 0.9508 - accuracy: 0.7801\n"
     ]
    }
   ],
   "source": [
    "model = models.Sequential()\n",
    "model.add(layers.Dense(64, activation='relu', input_shape=(10000,)))\n",
    "model.add(layers.Dense(64, activation='relu'))\n",
    "model.add(layers.Dense(46, activation='softmax'))\n",
    "model.compile(optimizer='rmsprop',\n",
    "loss='categorical_crossentropy',\n",
    "metrics=['accuracy'])\n",
    "model.fit(partial_x_train,\n",
    "partial_y_train,\n",
    "epochs=9,\n",
    "batch_size=512,\n",
    "validation_data=(x_val, y_val))\n",
    "results = model.evaluate(x_test, one_hot_test_labels)"
   ]
  },
  {
   "cell_type": "code",
   "execution_count": 16,
   "id": "7760aa81-339d-47e5-a179-625fbb12c380",
   "metadata": {},
   "outputs": [
    {
     "data": {
      "text/plain": [
       "[0.9507720470428467, 0.780053436756134]"
      ]
     },
     "execution_count": 16,
     "metadata": {},
     "output_type": "execute_result"
    }
   ],
   "source": [
    "results\n"
   ]
  },
  {
   "cell_type": "code",
   "execution_count": null,
   "id": "2c3d4c8e-1fb4-4679-be56-c4b9739f0fb3",
   "metadata": {},
   "outputs": [],
   "source": []
  }
 ],
 "metadata": {
  "kernelspec": {
   "display_name": "Python 3 (ipykernel)",
   "language": "python",
   "name": "python3"
  },
  "language_info": {
   "codemirror_mode": {
    "name": "ipython",
    "version": 3
   },
   "file_extension": ".py",
   "mimetype": "text/x-python",
   "name": "python",
   "nbconvert_exporter": "python",
   "pygments_lexer": "ipython3",
   "version": "3.11.4"
  }
 },
 "nbformat": 4,
 "nbformat_minor": 5
}
