{
 "cells": [
  {
   "cell_type": "markdown",
   "id": "63806739-eb4c-4ed2-8fba-b915189b0030",
   "metadata": {},
   "source": [
    "with the IMDB dataset: a set of 50,000 highly polarized reviews from the\n",
    "Internet Movie Database. They’re split into 25,000 reviews for training and 25,000\n",
    "reviews for testing,"
   ]
  },
  {
   "cell_type": "code",
   "execution_count": 1,
   "id": "4e3bafd0-ee56-4e97-a36b-8422625867b2",
   "metadata": {},
   "outputs": [],
   "source": [
    "from keras.datasets import imdb\n",
    "(train_data, train_labels), (test_data, test_labels) = imdb.load_data(num_words=10000)"
   ]
  },
  {
   "cell_type": "markdown",
   "id": "af5c3edb-3264-4427-83c1-b15f93ea9d80",
   "metadata": {},
   "source": [
    "num_words=10000 means you’ll only keep the top 10,000 most frequently \n",
    "occurring\r\n",
    "wor s\r\n",
    "in  he\r\n",
    "trai ing\r\n",
    "data."
   ]
  },
  {
   "cell_type": "code",
   "execution_count": 2,
   "id": "4e45472a-447e-4e19-a5ee-61ce21c742ab",
   "metadata": {},
   "outputs": [],
   "source": [
    "# train_data[0]"
   ]
  },
  {
   "cell_type": "code",
   "execution_count": 3,
   "id": "785136af-2f18-4356-aec5-07725d86ca3b",
   "metadata": {},
   "outputs": [
    {
     "data": {
      "text/plain": [
       "1"
      ]
     },
     "execution_count": 3,
     "metadata": {},
     "output_type": "execute_result"
    }
   ],
   "source": [
    "train_labels[0]"
   ]
  },
  {
   "cell_type": "code",
   "execution_count": 4,
   "id": "8b6a14bd-3e61-4a86-a102-a75b28a39780",
   "metadata": {},
   "outputs": [
    {
     "data": {
      "text/plain": [
       "9999"
      ]
     },
     "execution_count": 4,
     "metadata": {},
     "output_type": "execute_result"
    }
   ],
   "source": [
    "max([max(sequence) for sequence in train_data])\n"
   ]
  },
  {
   "cell_type": "code",
   "execution_count": 5,
   "id": "2ea4fb5a-2b50-4a47-b4ff-caffa5879445",
   "metadata": {},
   "outputs": [],
   "source": [
    "word_index = imdb.get_word_index()\n",
    "reverse_word_index = dict(\n",
    "[(value, key) for (key, value) in word_index.items()])\n",
    "decoded_review = ' '.join(\n",
    "[reverse_word_index.get(i - 3, '?') for i in train_data[0]])"
   ]
  },
  {
   "cell_type": "code",
   "execution_count": 6,
   "id": "ea42d4a6-5b69-483b-8a70-b92081a1a3fe",
   "metadata": {},
   "outputs": [
    {
     "data": {
      "text/plain": [
       "\"? this film was just brilliant casting location scenery story direction everyone's really suited the part they played and you could just imagine being there robert ? is an amazing actor and now the same being director ? father came from the same scottish island as myself so i loved the fact there was a real connection with this film the witty remarks throughout the film were great it was just brilliant so much that i bought the film as soon as it was released for ? and would recommend it to everyone to watch and the fly fishing was amazing really cried at the end it was so sad and you know what they say if you cry at a film it must have been good and this definitely was also ? to the two little boy's that played the ? of norman and paul they were just brilliant children are often left out of the ? list i think because the stars that play them all grown up are such a big profile for the whole film but these children are amazing and should be praised for what they have done don't you think the whole story was so lovely because it was true and was someone's life after all that was shared with us all\""
      ]
     },
     "execution_count": 6,
     "metadata": {},
     "output_type": "execute_result"
    }
   ],
   "source": [
    "decoded_review"
   ]
  },
  {
   "cell_type": "code",
   "execution_count": 7,
   "id": "eadc7467-aa1b-46c3-939d-22df3e6ebac6",
   "metadata": {},
   "outputs": [],
   "source": [
    "import numpy as np\n",
    "def vectorize_sequences(sequences, dimension=10000):\n",
    "    results = np.zeros((len(sequences), dimension))\n",
    "    for i, sequence in enumerate(sequences):\n",
    "        results[i, sequence] = 1.\n",
    "    return results\n",
    "x_train = vectorize_sequences(train_data)\n",
    "x_test = vectorize_sequences(test_data)"
   ]
  },
  {
   "cell_type": "code",
   "execution_count": 8,
   "id": "7d3a2f6e-fbe1-4d5c-93dc-33b7d209f469",
   "metadata": {},
   "outputs": [
    {
     "data": {
      "text/plain": [
       "array([0., 1., 1., ..., 0., 0., 0.])"
      ]
     },
     "execution_count": 8,
     "metadata": {},
     "output_type": "execute_result"
    }
   ],
   "source": [
    "x_train[0]"
   ]
  },
  {
   "cell_type": "code",
   "execution_count": 9,
   "id": "cf996161-425f-46e1-91a3-c98c8128c5d0",
   "metadata": {},
   "outputs": [],
   "source": [
    "y_train = np.asarray(train_labels).astype('float32')\n",
    "y_test = np.asarray(test_labels).astype('float32')"
   ]
  },
  {
   "cell_type": "code",
   "execution_count": 10,
   "id": "5c3c4274-5b2d-4786-a862-e998a4d0c060",
   "metadata": {},
   "outputs": [],
   "source": [
    "from keras import models\n",
    "from keras import layers\n",
    "model = models.Sequential()\n",
    "model.add(layers.Dense(16, activation='relu', input_shape=(10000,)))\n",
    "model.add(layers.Dense(16, activation='relu'))\n",
    "model.add(layers.Dense(1, activation='sigmoid'))"
   ]
  },
  {
   "cell_type": "code",
   "execution_count": 11,
   "id": "a3a5c077-da57-4e3c-b1aa-2bad48f54f40",
   "metadata": {},
   "outputs": [],
   "source": [
    "model.compile(optimizer='rmsprop',\n",
    "loss='binary_crossentropy',\n",
    "metrics=['acc'])"
   ]
  },
  {
   "cell_type": "code",
   "execution_count": 12,
   "id": "27fca572-22f6-452f-bb56-deef59b20ccd",
   "metadata": {},
   "outputs": [],
   "source": [
    "# from keras import optimizers\n",
    "# model.compile(optimizer=optimizers.RMSprop(lr=0.001), loss='binary_crossentropy', metrics=['accuracy'])"
   ]
  },
  {
   "cell_type": "code",
   "execution_count": 13,
   "id": "e0886b04-9a05-4b46-a427-37e1a3886b48",
   "metadata": {},
   "outputs": [],
   "source": [
    "x_val = x_train[:10000]\n",
    "partial_x_train = x_train[10000:]\n",
    "y_val = y_train[:10000]\n",
    "partial_y_train = y_train[10000:]"
   ]
  },
  {
   "cell_type": "code",
   "execution_count": 14,
   "id": "784d61db-01f4-4cb7-818a-d43681334db4",
   "metadata": {},
   "outputs": [
    {
     "name": "stdout",
     "output_type": "stream",
     "text": [
      "Epoch 1/20\n",
      "30/30 [==============================] - 6s 171ms/step - loss: 0.5515 - acc: 0.7836 - val_loss: 0.4425 - val_acc: 0.8504\n",
      "Epoch 2/20\n",
      "30/30 [==============================] - 1s 32ms/step - loss: 0.3657 - acc: 0.8849 - val_loss: 0.3397 - val_acc: 0.8785\n",
      "Epoch 3/20\n",
      "30/30 [==============================] - 1s 29ms/step - loss: 0.2762 - acc: 0.9083 - val_loss: 0.3070 - val_acc: 0.8800\n",
      "Epoch 4/20\n",
      "30/30 [==============================] - 1s 32ms/step - loss: 0.2204 - acc: 0.9281 - val_loss: 0.2827 - val_acc: 0.8882\n",
      "Epoch 5/20\n",
      "30/30 [==============================] - 1s 32ms/step - loss: 0.1883 - acc: 0.9365 - val_loss: 0.2943 - val_acc: 0.8809\n",
      "Epoch 6/20\n",
      "30/30 [==============================] - 1s 31ms/step - loss: 0.1619 - acc: 0.9463 - val_loss: 0.2833 - val_acc: 0.8862\n",
      "Epoch 7/20\n",
      "30/30 [==============================] - 1s 30ms/step - loss: 0.1400 - acc: 0.9551 - val_loss: 0.3119 - val_acc: 0.8760\n",
      "Epoch 8/20\n",
      "30/30 [==============================] - 1s 31ms/step - loss: 0.1238 - acc: 0.9621 - val_loss: 0.2977 - val_acc: 0.8817\n",
      "Epoch 9/20\n",
      "30/30 [==============================] - 1s 30ms/step - loss: 0.1109 - acc: 0.9658 - val_loss: 0.3021 - val_acc: 0.8835\n",
      "Epoch 10/20\n",
      "30/30 [==============================] - 1s 31ms/step - loss: 0.0948 - acc: 0.9727 - val_loss: 0.3179 - val_acc: 0.8841\n",
      "Epoch 11/20\n",
      "30/30 [==============================] - 1s 31ms/step - loss: 0.0859 - acc: 0.9753 - val_loss: 0.3368 - val_acc: 0.8817\n",
      "Epoch 12/20\n",
      "30/30 [==============================] - 1s 31ms/step - loss: 0.0746 - acc: 0.9797 - val_loss: 0.3526 - val_acc: 0.8761\n",
      "Epoch 13/20\n",
      "30/30 [==============================] - 1s 30ms/step - loss: 0.0632 - acc: 0.9844 - val_loss: 0.3813 - val_acc: 0.8705\n",
      "Epoch 14/20\n",
      "30/30 [==============================] - 1s 31ms/step - loss: 0.0565 - acc: 0.9873 - val_loss: 0.3918 - val_acc: 0.8790\n",
      "Epoch 15/20\n",
      "30/30 [==============================] - 1s 30ms/step - loss: 0.0509 - acc: 0.9875 - val_loss: 0.3990 - val_acc: 0.8780\n",
      "Epoch 16/20\n",
      "30/30 [==============================] - 1s 31ms/step - loss: 0.0444 - acc: 0.9896 - val_loss: 0.4226 - val_acc: 0.8731\n",
      "Epoch 17/20\n",
      "30/30 [==============================] - 1s 34ms/step - loss: 0.0337 - acc: 0.9944 - val_loss: 0.4715 - val_acc: 0.8650\n",
      "Epoch 18/20\n",
      "30/30 [==============================] - 1s 29ms/step - loss: 0.0334 - acc: 0.9937 - val_loss: 0.4624 - val_acc: 0.8748\n",
      "Epoch 19/20\n",
      "30/30 [==============================] - 1s 51ms/step - loss: 0.0307 - acc: 0.9941 - val_loss: 0.4783 - val_acc: 0.8735\n",
      "Epoch 20/20\n",
      "30/30 [==============================] - 1s 32ms/step - loss: 0.0238 - acc: 0.9967 - val_loss: 0.5000 - val_acc: 0.8714\n"
     ]
    }
   ],
   "source": [
    "history = model.fit(partial_x_train, partial_y_train, epochs=20, batch_size=512, validation_data=(x_val, y_val))"
   ]
  },
  {
   "cell_type": "code",
   "execution_count": 15,
   "id": "f696f7fa-ccf1-4abe-ba62-63218b69ee83",
   "metadata": {},
   "outputs": [],
   "source": [
    "history_dict = history.history\n"
   ]
  },
  {
   "cell_type": "code",
   "execution_count": 16,
   "id": "67b4db1b-588d-4655-99c7-27d9ddee639a",
   "metadata": {},
   "outputs": [
    {
     "data": {
      "text/plain": [
       "dict_keys(['loss', 'acc', 'val_loss', 'val_acc'])"
      ]
     },
     "execution_count": 16,
     "metadata": {},
     "output_type": "execute_result"
    }
   ],
   "source": [
    "history_dict.keys()\n"
   ]
  },
  {
   "cell_type": "code",
   "execution_count": 17,
   "id": "59888794-7b62-47de-8a6b-a026983f933e",
   "metadata": {},
   "outputs": [
    {
     "data": {
      "image/png": "[encoded data removed]",
      "text/plain": [
       "<Figure size 640x480 with 1 Axes>"
      ]
     },
     "metadata": {},
     "output_type": "display_data"
    }
   ],
   "source": [
    "import matplotlib.pyplot as plt\n",
    "history_dict = history.history\n",
    "loss_values = history_dict['loss']\n",
    "val_loss_values = history_dict['val_loss']\n",
    "epochs = range(1, len(loss_values) + 1)\n",
    "plt.plot(epochs, loss_values, 'bo', label='Training loss')\n",
    "plt.plot(epochs, val_loss_values, 'b', label='Validation loss')\n",
    "plt.title('Training and validation loss')\n",
    "plt.xlabel('Epochs')\n",
    "plt.ylabel('Loss')\n",
    "plt.legend()\n",
    "plt.show()"
   ]
  },
  {
   "cell_type": "code",
   "execution_count": 18,
   "id": "b86ed456-6e9c-4a55-bb27-586878ff11ab",
   "metadata": {},
   "outputs": [],
   "source": [
    "# !pip install matplotlib"
   ]
  },
  {
   "cell_type": "code",
   "execution_count": 19,
   "id": "ca1a4289-f798-43d3-a061-79f13ec4c6a4",
   "metadata": {},
   "outputs": [
    {
     "data": {
      "image/png": "[encoded data removed]",
      "text/plain": [
       "<Figure size 640x480 with 1 Axes>"
      ]
     },
     "metadata": {},
     "output_type": "display_data"
    }
   ],
   "source": [
    "plt.clf()\n",
    "acc_values = history_dict['acc']\n",
    "val_acc_values = history_dict['val_acc']\n",
    "plt.plot(epochs, acc_values, 'bo', label='Training acc')\n",
    "plt.plot(epochs, val_acc_values, 'b', label='Validation acc')\n",
    "plt.title('Training and validation accuracy')\n",
    "plt.xlabel('Epochs')\n",
    "plt.ylabel('Loss')\n",
    "plt.legend()\n",
    "plt.show()"
   ]
  },
  {
   "cell_type": "code",
   "execution_count": 20,
   "id": "7a598814-29d2-45fd-977a-6579b2036a7b",
   "metadata": {},
   "outputs": [
    {
     "name": "stdout",
     "output_type": "stream",
     "text": [
      "Epoch 1/4\n",
      "49/49 [==============================] - 2s 21ms/step - loss: 0.4792 - accuracy: 0.8009\n",
      "Epoch 2/4\n",
      "49/49 [==============================] - 1s 21ms/step - loss: 0.2779 - accuracy: 0.9035\n",
      "Epoch 3/4\n",
      "49/49 [==============================] - 1s 21ms/step - loss: 0.2153 - accuracy: 0.9240\n",
      "Epoch 4/4\n",
      "49/49 [==============================] - 1s 20ms/step - loss: 0.1826 - accuracy: 0.9344\n",
      "782/782 [==============================] - 3s 3ms/step - loss: 0.2888 - accuracy: 0.8866\n"
     ]
    }
   ],
   "source": [
    "model = models.Sequential()\n",
    "model.add(layers.Dense(16, activation='relu', input_shape=(10000,)))\n",
    "model.add(layers.Dense(16, activation='relu'))\n",
    "model.add(layers.Dense(1, activation='sigmoid'))\n",
    "model.compile(optimizer='rmsprop',\n",
    "loss='binary_crossentropy',\n",
    "metrics=['accuracy'])\n",
    "model.fit(x_train, y_train, epochs=4, batch_size=512)\n",
    "results = model.evaluate(x_test, y_test)"
   ]
  },
  {
   "cell_type": "code",
   "execution_count": 21,
   "id": "698e3a38-07fd-47c4-b60f-1a38131e3ceb",
   "metadata": {},
   "outputs": [
    {
     "data": {
      "text/plain": [
       "[0.2888078987598419, 0.8866400122642517]"
      ]
     },
     "execution_count": 21,
     "metadata": {},
     "output_type": "execute_result"
    }
   ],
   "source": [
    "results"
   ]
  },
  {
   "cell_type": "code",
   "execution_count": null,
   "id": "7d7afd91-64af-4dcf-8765-c213078b9e7f",
   "metadata": {},
   "outputs": [],
   "source": []
  }
 ],
 "metadata": {
  "kernelspec": {
   "display_name": "Python 3 (ipykernel)",
   "language": "python",
   "name": "python3"
  },
  "language_info": {
   "codemirror_mode": {
    "name": "ipython",
    "version": 3
   },
   "file_extension": ".py",
   "mimetype": "text/x-python",
   "name": "python",
   "nbconvert_exporter": "python",
   "pygments_lexer": "ipython3",
   "version": "3.11.4"
  }
 },
 "nbformat": 4,
 "nbformat_minor": 5
}
